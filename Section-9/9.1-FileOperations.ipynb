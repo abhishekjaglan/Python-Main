{
 "cells": [
  {
   "cell_type": "code",
   "execution_count": 13,
   "metadata": {},
   "outputs": [
    {
     "name": "stdout",
     "output_type": "stream",
     "text": [
      "Hi my name is bhaag milkha bhaag singh\n",
      "I am the shit but I got trauma so I always keep looking at my back\n",
      "But I still win a lot of stuff\n",
      "Dont be a loser, be like me\n",
      "Achieve things despite baggage, get tougher and stronger mentally\n",
      "The real battle start between your ear and ends there, rest just follows\n",
      "Hi my name is bhaag milkha bhaag singh\n",
      "I am the shit but I got trauma so I always keep looking at my back\n",
      "But I still win a lot of stuff\n",
      "Dont be a loser, be like me\n",
      "Achieve things despite baggage, get tougher and stronger mentally\n",
      "The real battle start between your ear and ends there, rest just follows\n"
     ]
    }
   ],
   "source": [
    "# Read the whole file\n",
    "\n",
    "with open('sample.txt', 'r') as file:\n",
    "    content = file.read()\n",
    "    print(content)\n",
    "    #for line in file:\n",
    "    #    print(line)\n",
    "        \n",
    "print(content)"
   ]
  },
  {
   "cell_type": "code",
   "execution_count": 12,
   "metadata": {},
   "outputs": [
    {
     "name": "stdout",
     "output_type": "stream",
     "text": [
      "Hi my name is bhaag milkha bhaag singh\n",
      "I am the shit but I got trauma so I always keep looking at my back\n",
      "But I still win a lot of stuff\n",
      "Dont be a loser, be like me\n",
      "Achieve things despite baggage, get tougher and stronger mentally\n",
      "The real battle start between your ear and ends there, rest just follows\n"
     ]
    }
   ],
   "source": [
    "# reading a file line by line\n",
    "\n",
    "with open('sample.txt', 'r') as file:\n",
    "    for line in file:\n",
    "        print(line.strip()) #strip to remove \\n or new line "
   ]
  },
  {
   "cell_type": "code",
   "execution_count": 14,
   "metadata": {},
   "outputs": [],
   "source": [
    "# Writing a file(Overwriting the whole file)\n",
    "\n",
    "with open('sample.txt', 'w') as file:\n",
    "    file.write('Hello this is the worlding speak\\n')\n",
    "    file.write('this is a new line after worlding.')"
   ]
  },
  {
   "cell_type": "code",
   "execution_count": 15,
   "metadata": {},
   "outputs": [
    {
     "name": "stdout",
     "output_type": "stream",
     "text": [
      "Hello this is the worlding speak\n",
      "this is a new line after worlding.\n",
      "Thats how you change or write over a file you \"w\" doofus\n"
     ]
    }
   ],
   "source": [
    "# write a file without overwriting i.e, appending\n",
    "\n",
    "with open('sample.txt', 'a') as file:\n",
    "    file.write('\\nThats how you change or write over a file you \"w\" doofus')\n",
    "    \n",
    "with open('sample.txt', 'r') as file:\n",
    "    content = file.read()\n",
    "    print(content)"
   ]
  },
  {
   "cell_type": "code",
   "execution_count": 17,
   "metadata": {},
   "outputs": [],
   "source": [
    "# writing a list of lines to a file\n",
    "lines = ['\\nfirst line \\n','second line \\n', 'third line \\n']\n",
    "\n",
    "with open('sample.txt', 'a') as file:\n",
    "    file.writelines(lines)      # writelines function to write multiple lines continuously"
   ]
  },
  {
   "cell_type": "code",
   "execution_count": 18,
   "metadata": {},
   "outputs": [],
   "source": [
    "## Binary files\n",
    "\n",
    "# writing to a binary file\n",
    "data = b'\\x00\\x01\\x02\\x03\\x04'\n",
    "\n",
    "with open('sample.bin', 'wb') as file:\n",
    "    file.write(data)"
   ]
  },
  {
   "cell_type": "code",
   "execution_count": 19,
   "metadata": {},
   "outputs": [
    {
     "name": "stdout",
     "output_type": "stream",
     "text": [
      "b'\\x00\\x01\\x02\\x03\\x04'\n"
     ]
    }
   ],
   "source": [
    "# reading binary files\n",
    "\n",
    "with open('sample.bin', 'rb') as file:\n",
    "    content = file.read()\n",
    "    print(content)"
   ]
  },
  {
   "cell_type": "code",
   "execution_count": 21,
   "metadata": {},
   "outputs": [
    {
     "name": "stdout",
     "output_type": "stream",
     "text": [
      "Wassup machaassss\n"
     ]
    }
   ],
   "source": [
    "# reading content from a source file and copying to destinaton file\n",
    "\n",
    "with open('source.txt', 'r') as file:\n",
    "    content = file.read()\n",
    "\n",
    "with open('destination.txt','a') as file:   # creates a file if it does not exist\n",
    "    file.write(content)\n",
    "\n",
    "with open('destination.txt', 'r') as file:\n",
    "    destinationContent = file.read()\n",
    "    print(destinationContent)"
   ]
  },
  {
   "cell_type": "code",
   "execution_count": 1,
   "metadata": {},
   "outputs": [
    {
     "name": "stdout",
     "output_type": "stream",
     "text": [
      "Lines: 6, words: 31, chars: 162\n"
     ]
    }
   ],
   "source": [
    "# reading file and printing total lines, words and characters\n",
    "def countStuff(filePath):\n",
    "    with open(filePath, 'r') as file:\n",
    "        lines = file.readlines()\n",
    "        lineCount = len(lines)\n",
    "        wordCount = sum(len(line.split()) for line in lines)\n",
    "        charCount = sum(len(line) for line in lines)\n",
    "        \n",
    "    return lineCount, wordCount, charCount\n",
    "\n",
    "lines, words, chars = countStuff('sample.txt')\n",
    "print(f'Lines: {lines}, words: {words}, chars: {chars}')"
   ]
  },
  {
   "cell_type": "code",
   "execution_count": 25,
   "metadata": {},
   "outputs": [
    {
     "name": "stdout",
     "output_type": "stream",
     "text": [
      "Hello World!\n",
      "This is the sample second line\n",
      "\n"
     ]
    }
   ],
   "source": [
    "# read and write mode (w+)\n",
    "\n",
    "with open('source.txt','w+') as file:\n",
    "    file.write('Hello World!\\n')\n",
    "    file.write('This is the sample second line\\n')\n",
    "    \n",
    "    ## moving the file cursor to beginning\n",
    "    file.seek(0)    # 0 = first pixel of file, without this the cursor remains at the end of file where the last insertion happened and it wont be able to read anything\n",
    "    \n",
    "    # reading and printing\n",
    "    content = file.read()\n",
    "    print(content)"
   ]
  },
  {
   "cell_type": "code",
   "execution_count": null,
   "metadata": {},
   "outputs": [],
   "source": []
  }
 ],
 "metadata": {
  "kernelspec": {
   "display_name": "python-main-venv",
   "language": "python",
   "name": "python3"
  },
  "language_info": {
   "codemirror_mode": {
    "name": "ipython",
    "version": 3
   },
   "file_extension": ".py",
   "mimetype": "text/x-python",
   "name": "python",
   "nbconvert_exporter": "python",
   "pygments_lexer": "ipython3",
   "version": "3.12.7"
  }
 },
 "nbformat": 4,
 "nbformat_minor": 2
}
