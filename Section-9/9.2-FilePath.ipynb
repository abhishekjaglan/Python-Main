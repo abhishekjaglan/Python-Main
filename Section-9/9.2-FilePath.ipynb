{
 "cells": [
  {
   "cell_type": "code",
   "execution_count": 5,
   "metadata": {},
   "outputs": [
    {
     "name": "stdout",
     "output_type": "stream",
     "text": [
      "Current working directory: /Users/abhishekjaglan/Desktop/AI-ML/python/python-main/Section-9\n"
     ]
    }
   ],
   "source": [
    "# importing os package\n",
    "import os\n",
    "\n",
    "cwd = os.getcwd()\n",
    "print(f'Current working directory: {cwd}')"
   ]
  },
  {
   "cell_type": "code",
   "execution_count": 6,
   "metadata": {},
   "outputs": [
    {
     "name": "stdout",
     "output_type": "stream",
     "text": [
      "None\n"
     ]
    }
   ],
   "source": [
    "# creating new working dir\n",
    "print(os.mkdir('packages'))"
   ]
  },
  {
   "cell_type": "code",
   "execution_count": 7,
   "metadata": {},
   "outputs": [
    {
     "name": "stdout",
     "output_type": "stream",
     "text": [
      "['destination.txt', 'source.txt', '9.2-FilePath.ipynb', 'packages', '9.1-FileOperations.ipynb', 'sample.txt', 'sample.bin']\n"
     ]
    }
   ],
   "source": [
    "#listing files and directories\n",
    "items = os.listdir('.') # . means current directory\n",
    "\n",
    "print(items)"
   ]
  },
  {
   "cell_type": "code",
   "execution_count": 10,
   "metadata": {},
   "outputs": [
    {
     "name": "stdout",
     "output_type": "stream",
     "text": [
      "folder/file.txt\n"
     ]
    }
   ],
   "source": [
    "## Joining paths\n",
    "\n",
    "dir_name = 'folder'\n",
    "file_name = 'file.txt'\n",
    "relative_full_path = os.path.join(dir_name, file_name)\n",
    "print(relative_full_path)"
   ]
  },
  {
   "cell_type": "code",
   "execution_count": 11,
   "metadata": {},
   "outputs": [
    {
     "name": "stdout",
     "output_type": "stream",
     "text": [
      "/Users/abhishekjaglan/Desktop/AI-ML/python/python-main/Section-9/folder/file.txt\n"
     ]
    }
   ],
   "source": [
    "dir_name = 'folder'\n",
    "file_name = 'file.txt'\n",
    "full_path = os.path.join(os.getcwd(),dir_name, file_name)\n",
    "print(full_path)"
   ]
  },
  {
   "cell_type": "code",
   "execution_count": 12,
   "metadata": {},
   "outputs": [
    {
     "name": "stdout",
     "output_type": "stream",
     "text": [
      "path does not exist\n"
     ]
    }
   ],
   "source": [
    "path = 'example.txt'\n",
    "\n",
    "if os.path.exists(path):\n",
    "    print('path exists')\n",
    "else:\n",
    "    print('path does not exist')"
   ]
  },
  {
   "cell_type": "code",
   "execution_count": 16,
   "metadata": {},
   "outputs": [
    {
     "name": "stdout",
     "output_type": "stream",
     "text": [
      "its a file\n"
     ]
    }
   ],
   "source": [
    "#checking if path is file or directory\n",
    "\n",
    "import os\n",
    "path = 'sample.txt'\n",
    "\n",
    "if os.path.isfile(path):\n",
    "    print('its a file')\n",
    "elif os.path.isdir(path):\n",
    "    print('its a directory')\n",
    "else:\n",
    "    print('None of em bro')"
   ]
  },
  {
   "cell_type": "code",
   "execution_count": 17,
   "metadata": {},
   "outputs": [
    {
     "data": {
      "text/plain": [
       "'/Users/abhishekjaglan/Desktop/AI-ML/python/python-main/Section-9/sample.txt'"
      ]
     },
     "execution_count": 17,
     "metadata": {},
     "output_type": "execute_result"
    }
   ],
   "source": [
    "# absolute path\n",
    "\n",
    "relative_path = 'sample.txt'\n",
    "absolute_path = os.path.abspath(relative_path)\n",
    "absolute_path"
   ]
  },
  {
   "cell_type": "code",
   "execution_count": null,
   "metadata": {},
   "outputs": [],
   "source": []
  }
 ],
 "metadata": {
  "kernelspec": {
   "display_name": "python-main-venv",
   "language": "python",
   "name": "python3"
  },
  "language_info": {
   "codemirror_mode": {
    "name": "ipython",
    "version": 3
   },
   "file_extension": ".py",
   "mimetype": "text/x-python",
   "name": "python",
   "nbconvert_exporter": "python",
   "pygments_lexer": "ipython3",
   "version": "3.12.7"
  }
 },
 "nbformat": 4,
 "nbformat_minor": 2
}
