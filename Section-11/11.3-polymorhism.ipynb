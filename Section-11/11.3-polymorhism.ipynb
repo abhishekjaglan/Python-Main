{
 "cells": [
  {
   "cell_type": "code",
   "execution_count": 2,
   "metadata": {},
   "outputs": [
    {
     "name": "stdout",
     "output_type": "stream",
     "text": [
      "Car engine starting\n",
      "Motorcycle engine starts\n"
     ]
    }
   ],
   "source": [
    "# Polymorphism using abstract class\n",
    "from abc import ABC, abstractmethod\n",
    "\n",
    "# defining abstract class\n",
    "class Vehicle(ABC):\n",
    "    @abstractmethod\n",
    "    def start_engine(self):\n",
    "        return ('Genenric start engine sound')\n",
    "        \n",
    "# derived class 1\n",
    "class Car(Vehicle):\n",
    "    def start_engine(self):\n",
    "        return ('Car engine starting')\n",
    "    \n",
    "\n",
    "# derived class 2\n",
    "class Motorcycle(Vehicle):\n",
    "    def start_engine(self):\n",
    "        return ('Motorcycle engine starts')\n",
    "\n",
    "# function to call obejcts generic method derived in abstract class\n",
    "def start_engine(vehicle):\n",
    "    print(vehicle.start_engine())\n",
    "    \n",
    "car = Car()\n",
    "bike = Motorcycle()\n",
    "\n",
    "start_engine(car)\n",
    "start_engine(bike)"
   ]
  },
  {
   "cell_type": "code",
   "execution_count": 3,
   "metadata": {},
   "outputs": [
    {
     "name": "stdout",
     "output_type": "stream",
     "text": [
      "Woof woof\n",
      "Meow meow\n"
     ]
    }
   ],
   "source": [
    "class Animal:\n",
    "    def speaks(self):\n",
    "        return 'Generic animal sound'\n",
    "    \n",
    "class Dog(Animal):\n",
    "    def speaks(self):\n",
    "        return 'Woof woof'\n",
    "    \n",
    "class Cat(Animal):\n",
    "    def speaks(self):\n",
    "        return 'Meow meow'\n",
    "\n",
    "def speak(animal):\n",
    "    print(animal.speaks())\n",
    "\n",
    "dog = Dog()\n",
    "cat = Cat()\n",
    "\n",
    "speak(dog)\n",
    "speak(cat)"
   ]
  },
  {
   "cell_type": "code",
   "execution_count": null,
   "metadata": {},
   "outputs": [],
   "source": []
  }
 ],
 "metadata": {
  "kernelspec": {
   "display_name": "python-main-venv",
   "language": "python",
   "name": "python3"
  },
  "language_info": {
   "codemirror_mode": {
    "name": "ipython",
    "version": 3
   },
   "file_extension": ".py",
   "mimetype": "text/x-python",
   "name": "python",
   "nbconvert_exporter": "python",
   "pygments_lexer": "ipython3",
   "version": "3.12.7"
  }
 },
 "nbformat": 4,
 "nbformat_minor": 2
}
