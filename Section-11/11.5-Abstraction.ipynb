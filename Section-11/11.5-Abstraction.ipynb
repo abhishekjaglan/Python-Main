{
 "cells": [
  {
   "cell_type": "code",
   "execution_count": 5,
   "metadata": {},
   "outputs": [
    {
     "name": "stdout",
     "output_type": "stream",
     "text": [
      "Woof!\n",
      "Meow!\n"
     ]
    }
   ],
   "source": [
    "# polymorphism but generic\n",
    "class Animal:\n",
    "  def make_sound(self):\n",
    "      print(\"Some generic sound\")\n",
    "      \n",
    "class Dog(Animal):\n",
    "  def make_sound(self):\n",
    "      print(\"Woof!\")\n",
    "      \n",
    "class Cat(Animal):\n",
    "  def make_sound(self):\n",
    "      print(\"Meow!\")\n",
    "\n",
    "# Using polymorphism\n",
    "def animal_sound(animal):\n",
    "  animal.make_sound()\n",
    "\n",
    "# Creating objects\n",
    "dog = Dog()\n",
    "cat = Cat()\n",
    "\n",
    "# Same method call, different behaviors\n",
    "animal_sound(dog)  # Output: Woof!\n",
    "animal_sound(cat)  # Output: Meow!"
   ]
  },
  {
   "cell_type": "code",
   "execution_count": 10,
   "metadata": {},
   "outputs": [
    {
     "name": "stdout",
     "output_type": "stream",
     "text": [
      "I make woof woof\n",
      "To follow natural instincts\n",
      "I make meow meow\n",
      "To follow natural instincts\n"
     ]
    }
   ],
   "source": [
    "## Abstract Class (ABC)\n",
    "## Helps in hiding unnecessary stuff not pertaining to subclasses \n",
    "from abc import ABC, abstractmethod\n",
    "\n",
    "class Animal(ABC):  # more structured and obligated way of polymorphism\n",
    "    def purpose(self):\n",
    "        print('To follow natural instincts')\n",
    "        \n",
    "    @abstractmethod\n",
    "    def make_sound(self):\n",
    "        pass            # usually no default implementation of abstractmethod in ABC\n",
    "    \n",
    "class Dog(Animal):\n",
    "    def make_sound(self):\n",
    "        print('I make woof woof')\n",
    "    \n",
    "class Cat(Animal):\n",
    "    def make_sound(self):\n",
    "        print('I make meow meow')\n",
    "\n",
    "def call_make_sound(obj):\n",
    "    obj.make_sound()\n",
    "    obj.purpose()\n",
    "    \n",
    "dog = Dog()\n",
    "cat = Cat()\n",
    "\n",
    "call_make_sound(dog)\n",
    "call_make_sound(cat)"
   ]
  },
  {
   "cell_type": "code",
   "execution_count": 8,
   "metadata": {},
   "outputs": [
    {
     "ename": "TypeError",
     "evalue": "Can't instantiate abstract class Animal without an implementation for abstract method 'make_sound'",
     "output_type": "error",
     "traceback": [
      "\u001b[0;31m---------------------------------------------------------------------------\u001b[0m",
      "\u001b[0;31mTypeError\u001b[0m                                 Traceback (most recent call last)",
      "Cell \u001b[0;32mIn[8], line 1\u001b[0m\n\u001b[0;32m----> 1\u001b[0m animal \u001b[38;5;241m=\u001b[39m \u001b[43mAnimal\u001b[49m\u001b[43m(\u001b[49m\u001b[43m)\u001b[49m\n",
      "\u001b[0;31mTypeError\u001b[0m: Can't instantiate abstract class Animal without an implementation for abstract method 'make_sound'"
     ]
    }
   ],
   "source": [
    "animal = Animal() # Can't instantiate abstract class Animal without an implementation for abstract method 'make_sound'"
   ]
  },
  {
   "cell_type": "code",
   "execution_count": null,
   "metadata": {},
   "outputs": [],
   "source": []
  }
 ],
 "metadata": {
  "kernelspec": {
   "display_name": "python-main-venv",
   "language": "python",
   "name": "python3"
  },
  "language_info": {
   "codemirror_mode": {
    "name": "ipython",
    "version": 3
   },
   "file_extension": ".py",
   "mimetype": "text/x-python",
   "name": "python",
   "nbconvert_exporter": "python",
   "pygments_lexer": "ipython3",
   "version": "3.12.7"
  }
 },
 "nbformat": 4,
 "nbformat_minor": 2
}
