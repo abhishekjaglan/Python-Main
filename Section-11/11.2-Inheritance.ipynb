{
 "cells": [
  {
   "cell_type": "code",
   "execution_count": 4,
   "metadata": {},
   "outputs": [],
   "source": [
    "## Inheritance\n",
    "# Parent class\n",
    "\n",
    "class Automobile:\n",
    "    def __init__(self, engineType, wheels):\n",
    "        self.engineType = engineType\n",
    "        self.wheels = wheels\n",
    "    \n",
    "    def drive(self):\n",
    "        print(f'Automobile Engine is of type:: {self.engineType}')\n",
    "    \n",
    "    "
   ]
  },
  {
   "cell_type": "code",
   "execution_count": 5,
   "metadata": {},
   "outputs": [
    {
     "name": "stdout",
     "output_type": "stream",
     "text": [
      "Automobile Engine is of type:: petrol\n"
     ]
    }
   ],
   "source": [
    "automobile1 = Automobile('petrol', 4)\n",
    "automobile1.drive()"
   ]
  },
  {
   "cell_type": "code",
   "execution_count": 7,
   "metadata": {},
   "outputs": [
    {
     "name": "stdout",
     "output_type": "stream",
     "text": [
      "Automobile Engine is of type:: Petrol\n",
      "Engine Type: Petrol \n",
      "No of wheeels: 4 \n",
      "No of windows: 4 \n",
      "Suspension Type: Automatic\n"
     ]
    }
   ],
   "source": [
    "## SINGLE INHERITANCE\n",
    "class Car(Automobile): ## Car class inheriting Automobile class\n",
    "    def __init__(self, engineType, wheels, windows, suspensionType):\n",
    "        super().__init__(engineType, wheels) ## calling initialization of parent variables using its constructor\n",
    "        self.windows = windows\n",
    "        self.suspensionType = suspensionType\n",
    "        \n",
    "    def getItems(self):\n",
    "        print(f'Engine Type: {self.engineType} \\nNo of wheeels: {self.wheels} \\nNo of windows: {self.windows} \\nSuspension Type: {self.suspensionType}')\n",
    "    \n",
    "car = Car('Petrol' , 4, 4, 'Automatic')\n",
    "car.drive()\n",
    "car.getItems()"
   ]
  },
  {
   "cell_type": "code",
   "execution_count": 17,
   "metadata": {},
   "outputs": [],
   "source": [
    "## Multiple inheritance\n",
    "\n",
    "class Father:\n",
    "    def __init__(self, fName, fFunction, fChild):\n",
    "        self.fName = fName\n",
    "        self.fFunction = fFunction\n",
    "        self.fChild = fChild\n",
    "        \n",
    "    def getFatherFunction(self):\n",
    "        print(f'What father does?: {self.fFunction}')\n",
    "        \n",
    "        \n",
    "class Mother:\n",
    "    def __init__(self, mName, mFunction, mChild):\n",
    "        self.mName = mName\n",
    "        self.mFunction = mFunction\n",
    "        self.mChild = mChild\n",
    "        \n",
    "    def getMotherFunction(self):\n",
    "        print(f\"What mother does?: {self.mFunction}\")\n",
    "        \n",
    "\n",
    "class Parents(Father, Mother):\n",
    "    def __init__(self, fName, fFunction, fChild, mName, mFunction, mChild, areMarried):\n",
    "        Father.__init__(self,fName, fFunction, fChild) ## way to inherit multiple classes\n",
    "        Mother.__init__(self,mName, mFunction, mChild)\n",
    "        self.areMarried = areMarried\n",
    "        \n",
    "    def areParentsMarried(self):\n",
    "        return self.areMarried\n",
    "    \n",
    "\n"
   ]
  },
  {
   "cell_type": "code",
   "execution_count": 15,
   "metadata": {},
   "outputs": [],
   "source": [
    "parents = Parents('Michael', 'Provides and secures family', 'Jim', 'Holly', 'Nurtures the family and children', 'Jim', True)"
   ]
  },
  {
   "cell_type": "code",
   "execution_count": 16,
   "metadata": {},
   "outputs": [
    {
     "name": "stdout",
     "output_type": "stream",
     "text": [
      "True\n",
      "What father does?: Provides and secures family\n",
      "What mother does?: Nurtures the family and children\n"
     ]
    }
   ],
   "source": [
    "print(parents.areParentsMarried())\n",
    "parents.getFatherFunction()\n",
    "parents.getMotherFunction()"
   ]
  },
  {
   "cell_type": "code",
   "execution_count": null,
   "metadata": {},
   "outputs": [],
   "source": []
  }
 ],
 "metadata": {
  "kernelspec": {
   "display_name": "python-main-venv",
   "language": "python",
   "name": "python3"
  },
  "language_info": {
   "codemirror_mode": {
    "name": "ipython",
    "version": 3
   },
   "file_extension": ".py",
   "mimetype": "text/x-python",
   "name": "python",
   "nbconvert_exporter": "python",
   "pygments_lexer": "ipython3",
   "version": "3.12.7"
  }
 },
 "nbformat": 4,
 "nbformat_minor": 2
}
