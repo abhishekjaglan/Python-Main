{
 "cells": [
  {
   "cell_type": "code",
   "execution_count": 1,
   "metadata": {},
   "outputs": [],
   "source": [
    "# empty class\n",
    "class car:\n",
    "    pass"
   ]
  },
  {
   "cell_type": "code",
   "execution_count": 2,
   "metadata": {},
   "outputs": [
    {
     "name": "stdout",
     "output_type": "stream",
     "text": [
      "<class '__main__.car'>\n",
      "<__main__.car object at 0x1043d30e0>\n"
     ]
    }
   ],
   "source": [
    "audi = car()\n",
    "print(type(audi))\n",
    "print(audi)"
   ]
  },
  {
   "cell_type": "code",
   "execution_count": 4,
   "metadata": {},
   "outputs": [
    {
     "name": "stdout",
     "output_type": "stream",
     "text": [
      "4\n"
     ]
    }
   ],
   "source": [
    "audi.windows = 4\n",
    "print(audi.windows)\n",
    "# defining attributes during runtime is big no no"
   ]
  },
  {
   "cell_type": "code",
   "execution_count": 8,
   "metadata": {},
   "outputs": [
    {
     "name": "stdout",
     "output_type": "stream",
     "text": [
      "<__main__.Dog object at 0x10440d3a0>\n",
      "Bruno\n",
      "8\n"
     ]
    }
   ],
   "source": [
    "## Instance variables and methods\n",
    "class Dog:\n",
    "    ## constructor, __init__()\n",
    "    def __init__(self, name, age): ## self just like this keyword, helps in accessing instance variables inside class\n",
    "        self.name = name\n",
    "        self.age = age\n",
    "        \n",
    "# creating objects\n",
    "lab = Dog('Bruno', 8)\n",
    "print(lab)\n",
    "print(lab.name)\n",
    "print(lab.age)"
   ]
  },
  {
   "cell_type": "code",
   "execution_count": 9,
   "metadata": {},
   "outputs": [
    {
     "name": "stdout",
     "output_type": "stream",
     "text": [
      "puppyyy\n"
     ]
    }
   ],
   "source": [
    "husky = Dog('Siberian Husky','puppyyy')\n",
    "print(husky.age)"
   ]
  },
  {
   "cell_type": "code",
   "execution_count": 12,
   "metadata": {},
   "outputs": [
    {
     "name": "stdout",
     "output_type": "stream",
     "text": [
      "<__main__.Car object at 0x1043f2540>\n",
      "Car Name: Maruti 800 \n",
      "Car manufacturing year: 1997\n",
      "Car Maruti 800 cant be sent, its at capacity. Buy better car!\n",
      "Audi R8 is being sent, vroooooooooooom!!!\n"
     ]
    }
   ],
   "source": [
    "## defining class using instance method\n",
    "\n",
    "class Car:\n",
    "    def __init__(self, name, year):\n",
    "        self.name = name\n",
    "        self.year = year\n",
    "    \n",
    "    def sendingIt(self):\n",
    "        \n",
    "        if self.year <= 2000:\n",
    "            print(f'Car {self.name} cant be sent, its at capacity. Buy better car!')\n",
    "        else:\n",
    "            print(f\"{self.name} is being sent, vroooooooooooom!!!\")\n",
    "    \n",
    "    def getItems(self):\n",
    "        return self.name, self.year\n",
    "    \n",
    "car1 = Car('Maruti 800', 1997)\n",
    "print(car1)\n",
    "carName, carYear = car1.getItems()\n",
    "print(f\"Car Name: {carName} \\nCar manufacturing year: {carYear}\")\n",
    "\n",
    "car1.sendingIt()\n",
    "\n",
    "car2 = Car('Audi R8', 2005)\n",
    "car2.sendingIt()"
   ]
  },
  {
   "cell_type": "code",
   "execution_count": null,
   "metadata": {},
   "outputs": [],
   "source": []
  }
 ],
 "metadata": {
  "kernelspec": {
   "display_name": "python-main-venv",
   "language": "python",
   "name": "python3"
  },
  "language_info": {
   "codemirror_mode": {
    "name": "ipython",
    "version": 3
   },
   "file_extension": ".py",
   "mimetype": "text/x-python",
   "name": "python",
   "nbconvert_exporter": "python",
   "pygments_lexer": "ipython3",
   "version": "3.12.7"
  }
 },
 "nbformat": 4,
 "nbformat_minor": 2
}
