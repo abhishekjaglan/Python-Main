{
 "cells": [
  {
   "cell_type": "code",
   "execution_count": 1,
   "metadata": {},
   "outputs": [],
   "source": [
    "## inbuilt logging library"
   ]
  },
  {
   "cell_type": "code",
   "execution_count": 14,
   "metadata": {},
   "outputs": [
    {
     "name": "stderr",
     "output_type": "stream",
     "text": [
      "DEBUG:root:This is debug message\n",
      "INFO:root:THis is info message\n",
      "WARNING:root:This is warning message\n",
      "ERROR:root:This is error message\n",
      "CRITICAL:root:This is critical message\n"
     ]
    }
   ],
   "source": [
    "import logging\n",
    "\n",
    "# logger config settings\n",
    "logging.basicConfig(level=logging.DEBUG) ##DEBUG: includes all loggings levels\n",
    "## logging.basicConfig(level=logging.INFO) ## INFO: includes all levels except INFO\n",
    "\n",
    "## log message of different severity\n",
    "logging.debug('This is debug message') ## 10 Ranking of levels\n",
    "logging.info('THis is info message') ## 20\n",
    "logging.warning('This is warning message') ## 30\n",
    "logging.error('This is error message') ## 40\n",
    "logging.critical('This is critical message') ## 50\n",
    "\n"
   ]
  },
  {
   "cell_type": "code",
   "execution_count": null,
   "metadata": {},
   "outputs": [],
   "source": [
    "# Clear any existing handlers\n",
    "for handler in logging.root.handlers[:]:\n",
    "  logging.root.removeHandler(handler)\n",
    "\n",
    "  ## Do this or restart kernel to initialize new logger"
   ]
  },
  {
   "cell_type": "code",
   "execution_count": 26,
   "metadata": {},
   "outputs": [],
   "source": [
    "## Custom Logging config\n",
    "\n",
    "import logging\n",
    "\n",
    "logging.basicConfig(\n",
    "    filename='app.log',\n",
    "    filemode='w',\n",
    "    level=logging.DEBUG,\n",
    "    format='%(asctime)s - %(name)s - %(levelname)s - %(message)s',\n",
    "    datefmt='%Y-%m-%d %H:%M:%S'\n",
    "    )\n",
    "\n",
    "\n",
    "logging.debug('This is debug message') ## 10 Ranking of levels\n",
    "logging.info('This is info message') ## 20\n",
    "logging.warning('This is warning message') ## 30\n",
    "logging.error('This is error message') ## 40\n",
    "logging.critical('This is critical message') ## 50\n"
   ]
  },
  {
   "cell_type": "code",
   "execution_count": 27,
   "metadata": {},
   "outputs": [],
   "source": [
    "logging.debug('This is debug message') ## 10 Ranking of levels\n",
    "logging.info('This is info message') ## 20\n",
    "logging.warning('This is warning message') ## 30\n",
    "logging.error('This is error message') ## 40\n",
    "logging.critical('This is critical message') ## 50"
   ]
  }
 ],
 "metadata": {
  "kernelspec": {
   "display_name": "python-main-venv",
   "language": "python",
   "name": "python3"
  },
  "language_info": {
   "codemirror_mode": {
    "name": "ipython",
    "version": 3
   },
   "file_extension": ".py",
   "mimetype": "text/x-python",
   "name": "python",
   "nbconvert_exporter": "python",
   "pygments_lexer": "ipython3",
   "version": "3.12.7"
  }
 },
 "nbformat": 4,
 "nbformat_minor": 2
}
