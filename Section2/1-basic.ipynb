{
 "cells": [
  {
   "cell_type": "markdown",
   "metadata": {},
   "source": [
    "## Hey, checking markdown file"
   ]
  },
  {
   "cell_type": "code",
   "execution_count": null,
   "metadata": {},
   "outputs": [
    {
     "name": "stdout",
     "output_type": "stream",
     "text": [
      "Abhishek\n",
      "Jaglan\n"
     ]
    }
   ],
   "source": [
    "## Case senstitvity\n",
    "name = \"Abhishek\"\n",
    "Name=\"Jaglan\"\n",
    "\n",
    "print(name)\n",
    "print(Name)"
   ]
  },
  {
   "cell_type": "code",
   "execution_count": 5,
   "metadata": {},
   "outputs": [
    {
     "name": "stdout",
     "output_type": "stream",
     "text": [
      "Inside 35\n",
      "35\n"
     ]
    }
   ],
   "source": [
    "# Indentation, defined as a tab or 4 spaces used as a block of code\n",
    "\n",
    "age = 35\n",
    "\n",
    "if age>25:\n",
    "    print('Inside',age)\n",
    "\n",
    "print(age)"
   ]
  },
  {
   "cell_type": "code",
   "execution_count": 6,
   "metadata": {},
   "outputs": [
    {
     "name": "stdout",
     "output_type": "stream",
     "text": [
      "Working on python\n"
     ]
    }
   ],
   "source": [
    "## Comment\n",
    "print('Working on python')"
   ]
  },
  {
   "cell_type": "code",
   "execution_count": 7,
   "metadata": {},
   "outputs": [
    {
     "name": "stdout",
     "output_type": "stream",
     "text": [
      "10\n"
     ]
    }
   ],
   "source": [
    "## Indentation\n",
    "\n",
    "sum = 1+2+3+ \\\n",
    "    4\n",
    "\n",
    "print(sum)"
   ]
  },
  {
   "cell_type": "code",
   "execution_count": 8,
   "metadata": {},
   "outputs": [
    {
     "name": "stdout",
     "output_type": "stream",
     "text": [
      "10\n",
      "20\n",
      "20\n"
     ]
    }
   ],
   "source": [
    "## Multiple statements on a single line\n",
    "a=10;b=20;c=20\n",
    "\n",
    "print(a)\n",
    "print(b)\n",
    "print(c)"
   ]
  },
  {
   "cell_type": "code",
   "execution_count": 13,
   "metadata": {},
   "outputs": [
    {
     "name": "stdout",
     "output_type": "stream",
     "text": [
      "Type of Age before changing it <class 'int'>\n",
      "Type of Age after changing it <class 'str'>\n"
     ]
    }
   ],
   "source": [
    "## Type Inferencing\n",
    "age=10\n",
    "type(age)\n",
    "print('Type of Age before changing it',type(age))\n",
    "\n",
    "age = 'Jaglan'\n",
    "type(age)\n",
    "print('Type of Age after changing it',type(age))\n"
   ]
  },
  {
   "cell_type": "code",
   "execution_count": 16,
   "metadata": {},
   "outputs": [
    {
     "name": "stdout",
     "output_type": "stream",
     "text": [
      "Inside first statement of true\n",
      "This will print oppose to False\n",
      "Second statement of first True boolean\n",
      "Final print outside and independent of indentation\n"
     ]
    }
   ],
   "source": [
    "## Indentation Examples\n",
    "if True:\n",
    "    print('Inside first statement of true')\n",
    "    if False:\n",
    "        print('Wont print')\n",
    "    else:\n",
    "        print(\"This will print oppose to False\")\n",
    "    print(\"Second statement of first True boolean\")\n",
    "print(\"Final print outside and independent of indentation\")"
   ]
  },
  {
   "cell_type": "code",
   "execution_count": null,
   "metadata": {},
   "outputs": [],
   "source": []
  }
 ],
 "metadata": {
  "kernelspec": {
   "display_name": "Python 3",
   "language": "python",
   "name": "python3"
  },
  "language_info": {
   "codemirror_mode": {
    "name": "ipython",
    "version": 3
   },
   "file_extension": ".py",
   "mimetype": "text/x-python",
   "name": "python",
   "nbconvert_exporter": "python",
   "pygments_lexer": "ipython3",
   "version": "3.12.7"
  }
 },
 "nbformat": 4,
 "nbformat_minor": 2
}
