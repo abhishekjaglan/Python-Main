{
 "cells": [
  {
   "cell_type": "code",
   "execution_count": null,
   "metadata": {},
   "outputs": [],
   "source": [
    "## Intro to Flask\n",
    "\n",
    "# WSGI - Web server gateway interface\n",
    "\n",
    "# Jinja2 - web template engine (web template --> data source[db, ml model etc])"
   ]
  }
 ],
 "metadata": {
  "kernelspec": {
   "display_name": "python-main-venv",
   "language": "python",
   "name": "python3"
  },
  "language_info": {
   "name": "python",
   "version": "3.12.7"
  }
 },
 "nbformat": 4,
 "nbformat_minor": 2
}
