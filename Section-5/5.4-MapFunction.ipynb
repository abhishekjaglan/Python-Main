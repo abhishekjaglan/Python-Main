{
 "cells": [
  {
   "cell_type": "code",
   "execution_count": 1,
   "metadata": {},
   "outputs": [],
   "source": [
    "# Map function applies a given function to all items in an input iterable and returns an iterable map object. \n",
    "# Transforms the data in data structure comprehensively"
   ]
  },
  {
   "cell_type": "code",
   "execution_count": 3,
   "metadata": {},
   "outputs": [],
   "source": [
    "def square(num):\n",
    "    return num**2"
   ]
  },
  {
   "cell_type": "code",
   "execution_count": 4,
   "metadata": {},
   "outputs": [
    {
     "data": {
      "text/plain": [
       "4"
      ]
     },
     "execution_count": 4,
     "metadata": {},
     "output_type": "execute_result"
    }
   ],
   "source": [
    "square(2)"
   ]
  },
  {
   "cell_type": "code",
   "execution_count": 13,
   "metadata": {},
   "outputs": [
    {
     "name": "stdout",
     "output_type": "stream",
     "text": [
      "<map object at 0x1065d2770>\n",
      "[1, 4, 9, 16, 25]\n",
      "1\n",
      "4\n",
      "9\n",
      "16\n",
      "25\n"
     ]
    }
   ],
   "source": [
    "# syntax : map(function_to_be_implemented, DS_to_be_implemented_over)  // return memory where this output is stored because of lazy loading\n",
    "array = [1,2,3,4,5]\n",
    "print(map(square,array))\n",
    "print(list(map(square, array)))\n",
    "map(square,array)\n",
    "sqaredArray = list(map(square,array))\n",
    "for item in sqaredArray:\n",
    "    print(item)"
   ]
  },
  {
   "cell_type": "code",
   "execution_count": 14,
   "metadata": {},
   "outputs": [
    {
     "data": {
      "text/plain": [
       "[1, 4, 9, 16, 25]"
      ]
     },
     "execution_count": 14,
     "metadata": {},
     "output_type": "execute_result"
    }
   ],
   "source": [
    "# lambda function with map\n",
    "list(map(lambda num:num*num, array))"
   ]
  },
  {
   "cell_type": "code",
   "execution_count": 16,
   "metadata": {},
   "outputs": [
    {
     "data": {
      "text/plain": [
       "[7, 9, 11, 13, 15]"
      ]
     },
     "execution_count": 16,
     "metadata": {},
     "output_type": "execute_result"
    }
   ],
   "source": [
    "arrayTwo = [6,7,8,9,10]\n",
    "sumOfArrays = list(map(lambda num1,num2:num1+num2, array, arrayTwo))\n",
    "sumOfArrays"
   ]
  },
  {
   "cell_type": "code",
   "execution_count": 19,
   "metadata": {},
   "outputs": [
    {
     "name": "stdout",
     "output_type": "stream",
     "text": [
      "<class 'list'>\n"
     ]
    },
    {
     "data": {
      "text/plain": [
       "[1, 2, 3, 4, 5]"
      ]
     },
     "execution_count": 19,
     "metadata": {},
     "output_type": "execute_result"
    }
   ],
   "source": [
    "# list of strings to numbers using map and type casting\n",
    "\n",
    "strOfNumbers = ['1','2','3','4','5']\n",
    "intOfNumbers = list(map(int, strOfNumbers))\n",
    "print(type(intOfNumbers))\n",
    "intOfNumbers"
   ]
  },
  {
   "cell_type": "code",
   "execution_count": 22,
   "metadata": {},
   "outputs": [
    {
     "name": "stdout",
     "output_type": "stream",
     "text": [
      "['HIU', 'JAL', 'PI', 'LIJIYE']\n"
     ]
    },
    {
     "data": {
      "text/plain": [
       "['HIU', 'JAL', 'PI', 'LIJIYE']"
      ]
     },
     "execution_count": 22,
     "metadata": {},
     "output_type": "execute_result"
    }
   ],
   "source": [
    "words = ['hiu','jal','pi', 'lijiye']\n",
    "UpperWords = list(map(lambda tring:str.upper(tring),words))\n",
    "print(UpperWords)\n",
    "UpperWords = list(map(str.upper,words))\n",
    "UpperWords"
   ]
  },
  {
   "cell_type": "code",
   "execution_count": 23,
   "metadata": {},
   "outputs": [
    {
     "data": {
      "text/plain": [
       "['Abhishek', 'jaglan', 'tanss']"
      ]
     },
     "execution_count": 23,
     "metadata": {},
     "output_type": "execute_result"
    }
   ],
   "source": [
    "people = [\n",
    "    {'name':'Abhishek', 'age':25},\n",
    "    {'name':'jaglan', 'age':'infinity'},\n",
    "    {'name':'tanss', 'age':23},\n",
    "]\n",
    "\n",
    "nameOfPeople = list(map(lambda item:item.get('name'), people))\n",
    "nameOfPeople"
   ]
  },
  {
   "cell_type": "code",
   "execution_count": null,
   "metadata": {},
   "outputs": [],
   "source": [
    "# Wassupp"
   ]
  }
 ],
 "metadata": {
  "kernelspec": {
   "display_name": "venv",
   "language": "python",
   "name": "python3"
  },
  "language_info": {
   "codemirror_mode": {
    "name": "ipython",
    "version": 3
   },
   "file_extension": ".py",
   "mimetype": "text/x-python",
   "name": "python",
   "nbconvert_exporter": "python",
   "pygments_lexer": "ipython3",
   "version": "3.12.0"
  }
 },
 "nbformat": 4,
 "nbformat_minor": 2
}
