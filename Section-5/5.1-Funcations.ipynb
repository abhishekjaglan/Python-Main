{
 "cells": [
  {
   "cell_type": "code",
   "execution_count": 8,
   "metadata": {},
   "outputs": [],
   "source": [
    "## function syntax\n",
    "def function_name(paramters):\n",
    "    #function body\n",
    "    return value"
   ]
  },
  {
   "cell_type": "code",
   "execution_count": 1,
   "metadata": {},
   "outputs": [
    {
     "name": "stdout",
     "output_type": "stream",
     "text": [
      "Even\n"
     ]
    }
   ],
   "source": [
    "num = 10\n",
    "\n",
    "if num%2==0:\n",
    "    print(\"Even\")\n",
    "else:\n",
    "    print(\"Odd\")"
   ]
  },
  {
   "cell_type": "code",
   "execution_count": null,
   "metadata": {},
   "outputs": [
    {
     "name": "stdout",
     "output_type": "stream",
     "text": [
      "This function finds even or odd\n",
      "Even\n",
      "Odd\n"
     ]
    }
   ],
   "source": [
    "def even_odd(num):\n",
    "    # doctring below - defines what the function does\n",
    "    \"\"\"This function finds even or odd\"\"\"\n",
    "    if num%2==0:\n",
    "        print('Even')\n",
    "    else:\n",
    "        print('Odd')\n",
    "\n",
    "# calling docstring of a function   \n",
    "print(even_odd.__doc__)\n",
    "even_odd(10)\n",
    "even_odd(11)"
   ]
  },
  {
   "cell_type": "code",
   "execution_count": 4,
   "metadata": {},
   "outputs": [
    {
     "name": "stdout",
     "output_type": "stream",
     "text": [
      "1244\n"
     ]
    }
   ],
   "source": [
    "# fucntion to add two numbers\n",
    "\n",
    "def add(a,b):\n",
    "    \"\"\"Adds two numbers\"\"\"\n",
    "    return a+b\n",
    "\n",
    "print(add(10,1234))"
   ]
  },
  {
   "cell_type": "code",
   "execution_count": 5,
   "metadata": {},
   "outputs": [
    {
     "name": "stdout",
     "output_type": "stream",
     "text": [
      "Hello John!\n",
      "Hello Guest!\n"
     ]
    }
   ],
   "source": [
    "# function with default parameter\n",
    "\n",
    "def greet(name='Guest'):\n",
    "    \"\"\"Function with default parameter for greeting\"\"\"\n",
    "    print(f\"Hello {name}!\")\n",
    "\n",
    "greet('John')\n",
    "greet()"
   ]
  },
  {
   "cell_type": "code",
   "execution_count": null,
   "metadata": {},
   "outputs": [
    {
     "name": "stdout",
     "output_type": "stream",
     "text": [
      "1\n",
      "3\n",
      "2\n",
      "7\n",
      "5\n",
      "abhishek\n"
     ]
    }
   ],
   "source": [
    "# variable length arguements\n",
    "# positional and keyword arguements\n",
    "\n",
    "def print_numbers(*args):\n",
    "    \"\"\"Prints all the numbers using variable arguements length\"\"\"\n",
    "    for arg in args:\n",
    "        print(arg)\n",
    "\n",
    "print_numbers(1,3,2,7,5,'abhishek')"
   ]
  },
  {
   "cell_type": "code",
   "execution_count": 13,
   "metadata": {},
   "outputs": [
    {
     "name": "stdout",
     "output_type": "stream",
     "text": [
      "Key: Name - Value: Abhishek\n",
      "Key: age - Value: 25\n",
      "Key: Occupation - Value: Software Engineer\n",
      "Key: RealOccupation - Value: Serial Procastinator\n",
      "Key: USP - Value: Pessimism\n"
     ]
    }
   ],
   "source": [
    "#keyword arguements\n",
    "\n",
    "def print_kwargs(**kwargs):\n",
    "    \"\"\"To print key value pairs like dict\"\"\"\n",
    "    for key, value in kwargs.items():\n",
    "        print(f\"Key: {key} - Value: {value}\")\n",
    "\n",
    "print_kwargs(Name='Abhishek', age=25, Occupation='Software Engineer', RealOccupation='Serial Procastinator', USP='Pessimism')"
   ]
  },
  {
   "cell_type": "code",
   "execution_count": 14,
   "metadata": {},
   "outputs": [
    {
     "name": "stdout",
     "output_type": "stream",
     "text": [
      "Key: Name - Value: Abhishek\n",
      "Key: age - Value: 25\n",
      "Key: Occupation - Value: Software Engineer\n",
      "Key: RealOccupation - Value: Serial Procastinator\n",
      "Key: USP - Value: Pessimism\n"
     ]
    }
   ],
   "source": [
    "sampleDict = {\"Name\": 'Abhishek', \"age\": 25, \"Occupation\": 'Software Engineer', \"RealOccupation\": 'Serial Procastinator', \"USP\": 'Pessimism'}\n",
    "\n",
    "print_kwargs(**sampleDict)"
   ]
  },
  {
   "cell_type": "code",
   "execution_count": null,
   "metadata": {},
   "outputs": [],
   "source": [
    "def print_details(*args,**kwargs):\n",
    "    \"\"\"To print *args and **kwargs together\"\"\"\n",
    "    for arg in args:\n",
    "        print(f\"Positional Arguements- {arg}\")\n",
    "\n",
    "    for key, value in kwargs.items():\n",
    "        print(f\"Key: {key} - Value: {value}\")"
   ]
  },
  {
   "cell_type": "code",
   "execution_count": null,
   "metadata": {},
   "outputs": [
    {
     "name": "stdout",
     "output_type": "stream",
     "text": [
      "Positional Arguements- 1\n",
      "Positional Arguements- 2\n",
      "Positional Arguements- 7\n",
      "Positional Arguements- 6\n",
      "Positional Arguements- 0\n",
      "Positional Arguements- 5\n",
      "Key: Name - Value: Abhishek\n",
      "Key: age - Value: 25\n",
      "Key: Occupation - Value: Software Engineer\n",
      "Key: RealOccupation - Value: Serial Procastinator\n",
      "Key: USP - Value: Pessimism\n"
     ]
    }
   ],
   "source": [
    "print_details(1, 2, 7, 6, 0, 5, **sampleDict)"
   ]
  },
  {
   "cell_type": "code",
   "execution_count": null,
   "metadata": {},
   "outputs": [
    {
     "name": "stdout",
     "output_type": "stream",
     "text": [
      "(3, 1, 2)\n"
     ]
    }
   ],
   "source": [
    "# double value return function\n",
    "\n",
    "def doubleReturn(a,b):\n",
    "    return a+b,a,b\n",
    "\n",
    "print(doubleReturn(1,2))"
   ]
  },
  {
   "cell_type": "code",
   "execution_count": null,
   "metadata": {},
   "outputs": [],
   "source": []
  }
 ],
 "metadata": {
  "kernelspec": {
   "display_name": "Python 3",
   "language": "python",
   "name": "python3"
  },
  "language_info": {
   "codemirror_mode": {
    "name": "ipython",
    "version": 3
   },
   "file_extension": ".py",
   "mimetype": "text/x-python",
   "name": "python",
   "nbconvert_exporter": "python",
   "pygments_lexer": "ipython3",
   "version": "3.12.7"
  }
 },
 "nbformat": 4,
 "nbformat_minor": 2
}
