{
 "cells": [
  {
   "cell_type": "code",
   "execution_count": 1,
   "metadata": {},
   "outputs": [],
   "source": [
    "# function to convert temprature into different units\n",
    "\n",
    "def tempConversion(temp, unit):\n",
    "    if unit == 'C':\n",
    "        return (temp*9/5) + 32\n",
    "    elif unit == 'F':\n",
    "        return (temp - 32)*5/9\n",
    "    else:\n",
    "        return None"
   ]
  },
  {
   "cell_type": "code",
   "execution_count": 4,
   "metadata": {},
   "outputs": [
    {
     "name": "stdout",
     "output_type": "stream",
     "text": [
      "84.2\n"
     ]
    },
    {
     "data": {
      "text/plain": [
       "25.0"
      ]
     },
     "execution_count": 4,
     "metadata": {},
     "output_type": "execute_result"
    }
   ],
   "source": [
    "print(tempConversion(29,'C'))\n",
    "tempConversion(77,'F')"
   ]
  },
  {
   "cell_type": "code",
   "execution_count": 8,
   "metadata": {},
   "outputs": [],
   "source": [
    "## function to check password strength\n",
    "\n",
    "def passwordStrength(password):\n",
    "\n",
    "    if(len(password) < 8):\n",
    "        return False\n",
    "    elif not any(char.isupper() for char in password):\n",
    "        return False\n",
    "    elif not any(char.isdigit() for char in password):\n",
    "        return False\n",
    "    elif not any(char.islower() for char in password):\n",
    "        return False\n",
    "    elif not any(char in '!@#$%^&*()_+=[]|' for char in password):\n",
    "        return False\n",
    "    else:\n",
    "        return True"
   ]
  },
  {
   "cell_type": "code",
   "execution_count": 9,
   "metadata": {},
   "outputs": [
    {
     "name": "stdout",
     "output_type": "stream",
     "text": [
      "True\n"
     ]
    },
    {
     "data": {
      "text/plain": [
       "False"
      ]
     },
     "execution_count": 9,
     "metadata": {},
     "output_type": "execute_result"
    }
   ],
   "source": [
    "print(passwordStrength('Str0ngPwd!'))\n",
    "passwordStrength('WeakPwd')"
   ]
  },
  {
   "cell_type": "code",
   "execution_count": null,
   "metadata": {},
   "outputs": [],
   "source": [
    "# Total Cost of Items in Shopping Cart\n",
    "\n",
    "def shoppingCartTotal(cart):\n",
    "    \"\"\"Function to calculate total cost of items in a shopping cart\"\"\"\n",
    "    totalCost = 0\n",
    "    for item in cart:\n",
    "        totalCost += item['price']*item['quantity']\n",
    "    return totalCost"
   ]
  },
  {
   "cell_type": "code",
   "execution_count": 12,
   "metadata": {},
   "outputs": [
    {
     "data": {
      "text/plain": [
       "5.8999999999999995"
      ]
     },
     "execution_count": 12,
     "metadata": {},
     "output_type": "execute_result"
    }
   ],
   "source": [
    "cart=[\n",
    "    {'name':'Apple','price':0.5,'quantity':4},\n",
    "    {'name':'Banana','price':0.3,'quantity':6},\n",
    "    {'name':'Orange','price':0.7,'quantity':3}\n",
    "\n",
    "]\n",
    "\n",
    "shoppingCartTotal(cart)"
   ]
  },
  {
   "cell_type": "code",
   "execution_count": null,
   "metadata": {},
   "outputs": [],
   "source": [
    "# Check if palindrome\n",
    "\n",
    "def isPalindrome(palindrome):\n",
    "    \"\"\"Function to check if string is palindrome or not\"\"\"\n",
    "    if type(palindrome) != str:\n",
    "        return 'Not a string'\n",
    "\n",
    "    palindrome = palindrome.lower().replace(' ','')\n",
    "\n",
    "    if palindrome == palindrome[::-1]:\n",
    "        return True\n",
    "    else:\n",
    "        return False"
   ]
  },
  {
   "cell_type": "code",
   "execution_count": 14,
   "metadata": {},
   "outputs": [
    {
     "name": "stdout",
     "output_type": "stream",
     "text": [
      "True\n",
      "False\n"
     ]
    },
    {
     "data": {
      "text/plain": [
       "'Not a string'"
      ]
     },
     "execution_count": 14,
     "metadata": {},
     "output_type": "execute_result"
    }
   ],
   "source": [
    "print(isPalindrome(\"A man a plan a canal Panama\"))\n",
    "print(isPalindrome('Hello'))\n",
    "isPalindrome(124)"
   ]
  },
  {
   "cell_type": "code",
   "execution_count": 21,
   "metadata": {},
   "outputs": [],
   "source": [
    "# factorial of a number using recursion\n",
    "\n",
    "def factorial(num):\n",
    "    if num == 1:\n",
    "        return 1\n",
    "    else:\n",
    "        return num*factorial(num-1)"
   ]
  },
  {
   "cell_type": "code",
   "execution_count": 23,
   "metadata": {},
   "outputs": [
    {
     "name": "stdout",
     "output_type": "stream",
     "text": [
      "3628800\n",
      "120\n"
     ]
    }
   ],
   "source": [
    "print(factorial(10))\n",
    "print(factorial(5))"
   ]
  },
  {
   "cell_type": "code",
   "execution_count": 28,
   "metadata": {},
   "outputs": [],
   "source": [
    "# function to read file and count frequency of distinct words in it\n",
    "\n",
    "def wordCountFrequency(filePath):\n",
    "    wordCount = {}\n",
    "    with open(filePath, 'r') as file:\n",
    "        for line in file:\n",
    "            words = line.split()\n",
    "            for word in words:\n",
    "                word = word.lower().strip('.!?,:;\"\\'')\n",
    "                wordCount[word] = wordCount.get(word, 0)+1\n",
    "\n",
    "    return wordCount\n",
    "            "
   ]
  },
  {
   "cell_type": "code",
   "execution_count": 29,
   "metadata": {},
   "outputs": [
    {
     "data": {
      "text/plain": [
       "{'hi': 1,\n",
       " 'my': 2,\n",
       " 'name': 1,\n",
       " 'is': 1,\n",
       " 'bhaag': 2,\n",
       " 'milkha': 1,\n",
       " 'singh': 1,\n",
       " 'i': 4,\n",
       " 'am': 1,\n",
       " 'the': 2,\n",
       " 'shit': 1,\n",
       " 'but': 2,\n",
       " 'got': 1,\n",
       " 'trauma': 1,\n",
       " 'so': 1,\n",
       " 'always': 1,\n",
       " 'keep': 1,\n",
       " 'looking': 1,\n",
       " 'at': 1,\n",
       " 'back': 1,\n",
       " 'still': 1,\n",
       " 'win': 1,\n",
       " 'a': 2,\n",
       " 'lot': 1,\n",
       " 'of': 1,\n",
       " 'stuff': 1,\n",
       " 'dont': 1,\n",
       " 'be': 2,\n",
       " 'loser': 1,\n",
       " 'like': 1,\n",
       " 'me': 1,\n",
       " 'achieve': 1,\n",
       " 'things': 1,\n",
       " 'despite': 1,\n",
       " 'baggage': 1,\n",
       " 'get': 1,\n",
       " 'tougher': 1,\n",
       " 'and': 2,\n",
       " 'stronger': 1,\n",
       " 'mentally': 1,\n",
       " 'real': 1,\n",
       " 'battle': 1,\n",
       " 'start': 1,\n",
       " 'between': 1,\n",
       " 'your': 1,\n",
       " 'ear': 1,\n",
       " 'ends': 1,\n",
       " 'there': 1,\n",
       " 'rest': 1,\n",
       " 'just': 1,\n",
       " 'follows': 1}"
      ]
     },
     "execution_count": 29,
     "metadata": {},
     "output_type": "execute_result"
    }
   ],
   "source": [
    "filePath = 'sample.txt'\n",
    "wordCountFrequency(filePath)"
   ]
  },
  {
   "cell_type": "code",
   "execution_count": 1,
   "metadata": {},
   "outputs": [
    {
     "data": {
      "text/plain": [
       "75"
      ]
     },
     "execution_count": 1,
     "metadata": {},
     "output_type": "execute_result"
    }
   ],
   "source": [
    "data = [\n",
    "  \"AA250970\", \"AD185266\", \"AD185266\", \"AJ185016\", \"AJ185016\", \"AM385030\", \"AM385030\",\n",
    "  \"AP163201\", \"AP163201\", \"AP250833\", \"AP250834\", \"AR185412\", \"AW385000\", \"AW385000\",\n",
    "  \"BG185103\", \"BG185103\", \"BL250233\", \"BP185148\", \"BP185148\", \"CB185289\", \"CO250099\",\n",
    "  \"CO250099\", \"CV250098\", \"DP185261\", \"DR385005\", \"ES185037\", \"ES185037\", \"GC250278\",\n",
    "  \"GC250278\", \"GL250215\", \"GN385001\", \"GZ185027\", \"IK350004\", \"JA250495\", \"JB185634\",\n",
    "  \"JB185634\", \"JB385002\", \"JE250204\", \"JE250204\", \"JJ250432\", \"JJ250433\", \"JK185336\",\n",
    "  \"JK185336\", \"JL185451\", \"JL185451\", \"JW250596\", \"JZ185114\", \"JZ185114\", \"KJ250211\",\n",
    "  \"KS185491\", \"LB385002\", \"LD350002\", \"LD350002\", \"LG250233\", \"LG250237\", \"MH185261\",\n",
    "  \"MH185261\", \"MJ185211\", \"MJ185211\", \"ML250480\", \"MM251476\", \"MM251476\", \"MO250225\",\n",
    "  \"MO250225\", \"MR250712\", \"MS385027\", \"NB185037\", \"ND250238\", \"NN185117\", \"NN185117\",\n",
    "  \"PS385010\", \"PT385008\", \"RE250125\", \"RK250645\", \"RN250260\", \"RU250042\", \"RU250042\",\n",
    "  \"RW250244\", \"SB250882\", \"SB250882\", \"SB250897\", \"SK185752\", \"SK185752\", \"SM350033\",\n",
    "  \"SN230021\", \"SN230021\", \"SR250695\", \"SR250695\", \"SR250702\", \"SR250702\", \"SS251949\",\n",
    "  \"ST250485\", \"ST250485\", \"SV385001\", \"SV385001\", \"TB250424\", \"TJ385001\", \"TJ385001\",\n",
    "  \"TT350007\", \"VK385004\", \"VK385005\", \"VR250189\", \"VS250485\", \"WK185033\", \"YR185029\"\n",
    "]\n",
    "\n",
    "def distinctElements(data):\n",
    "    setDistinctElements = set(data)\n",
    "    return len(setDistinctElements)\n",
    "\n",
    "distinctElements(data)"
   ]
  }
 ],
 "metadata": {
  "kernelspec": {
   "display_name": "Python 3",
   "language": "python",
   "name": "python3"
  },
  "language_info": {
   "codemirror_mode": {
    "name": "ipython",
    "version": 3
   },
   "file_extension": ".py",
   "mimetype": "text/x-python",
   "name": "python",
   "nbconvert_exporter": "python",
   "pygments_lexer": "ipython3",
   "version": "3.12.7"
  }
 },
 "nbformat": 4,
 "nbformat_minor": 2
}
